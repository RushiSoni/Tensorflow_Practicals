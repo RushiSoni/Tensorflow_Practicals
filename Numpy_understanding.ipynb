{
 "cells": [
  {
   "cell_type": "markdown",
   "metadata": {
    "colab_type": "text",
    "id": "00ua93hohKMI"
   },
   "source": [
    "### Numpy Operation"
   ]
  },
  {
   "cell_type": "code",
   "execution_count": 1,
   "metadata": {
    "colab": {
     "autoexec": {
      "startup": false,
      "wait_interval": 0
     },
     "base_uri": "https://localhost:8080/",
     "height": 34,
     "output_extras": [
      {
       "item_id": 1
      }
     ]
    },
    "colab_type": "code",
    "collapsed": false,
    "executionInfo": {
     "elapsed": 1167,
     "status": "ok",
     "timestamp": 1522490150066,
     "user": {
      "displayName": "Rushi Soni",
      "photoUrl": "//lh3.googleusercontent.com/-DRSXegrNWU8/AAAAAAAAAAI/AAAAAAAAALw/g2m_NymLhOs/s50-c-k-no/photo.jpg",
      "userId": "118282896907434154887"
     },
     "user_tz": -330
    },
    "id": "7HFMgyHpWPxg",
    "outputId": "ab02a6a6-a346-4bca-e160-e0a2327e8c98"
   },
   "outputs": [
    {
     "data": {
      "text/plain": [
       "array([1, 2, 3, 4])"
      ]
     },
     "execution_count": 1,
     "metadata": {},
     "output_type": "execute_result"
    }
   ],
   "source": [
    "import numpy as np\n",
    "abc=[1,2,3,4]\n",
    "abc=np.array(abc)\n",
    "abc"
   ]
  },
  {
   "cell_type": "code",
   "execution_count": 2,
   "metadata": {
    "colab": {
     "autoexec": {
      "startup": false,
      "wait_interval": 0
     },
     "base_uri": "https://localhost:8080/",
     "height": 34,
     "output_extras": [
      {
       "item_id": 1
      }
     ]
    },
    "colab_type": "code",
    "collapsed": false,
    "executionInfo": {
     "elapsed": 1165,
     "status": "ok",
     "timestamp": 1522490151397,
     "user": {
      "displayName": "Rushi Soni",
      "photoUrl": "//lh3.googleusercontent.com/-DRSXegrNWU8/AAAAAAAAAAI/AAAAAAAAALw/g2m_NymLhOs/s50-c-k-no/photo.jpg",
      "userId": "118282896907434154887"
     },
     "user_tz": -330
    },
    "id": "i47NJ4gwW8hQ",
    "outputId": "364d7266-3d69-49b3-dc73-42f41a2de355"
   },
   "outputs": [
    {
     "data": {
      "text/plain": [
       "array([ 0,  3,  6,  9, 12, 15, 18])"
      ]
     },
     "execution_count": 2,
     "metadata": {},
     "output_type": "execute_result"
    }
   ],
   "source": [
    "np.arange(0,20,3)#argument (Start,Stop,Step size)"
   ]
  },
  {
   "cell_type": "code",
   "execution_count": 3,
   "metadata": {
    "colab": {
     "autoexec": {
      "startup": false,
      "wait_interval": 0
     },
     "base_uri": "https://localhost:8080/",
     "height": 34,
     "output_extras": [
      {
       "item_id": 1
      }
     ]
    },
    "colab_type": "code",
    "collapsed": false,
    "executionInfo": {
     "elapsed": 1313,
     "status": "ok",
     "timestamp": 1522490152871,
     "user": {
      "displayName": "Rushi Soni",
      "photoUrl": "//lh3.googleusercontent.com/-DRSXegrNWU8/AAAAAAAAAAI/AAAAAAAAALw/g2m_NymLhOs/s50-c-k-no/photo.jpg",
      "userId": "118282896907434154887"
     },
     "user_tz": -330
    },
    "id": "XdbeDvjJXGSv",
    "outputId": "c8c1ded1-6898-4461-f31d-591d4bedcb2a"
   },
   "outputs": [
    {
     "data": {
      "text/plain": [
       "array([ 0.,  0.,  0.,  0.,  0.])"
      ]
     },
     "execution_count": 3,
     "metadata": {},
     "output_type": "execute_result"
    }
   ],
   "source": [
    "np.zeros(5)"
   ]
  },
  {
   "cell_type": "code",
   "execution_count": 4,
   "metadata": {
    "colab": {
     "autoexec": {
      "startup": false,
      "wait_interval": 0
     },
     "base_uri": "https://localhost:8080/",
     "height": 68,
     "output_extras": [
      {
       "item_id": 1
      }
     ]
    },
    "colab_type": "code",
    "collapsed": false,
    "executionInfo": {
     "elapsed": 1035,
     "status": "ok",
     "timestamp": 1522490154029,
     "user": {
      "displayName": "Rushi Soni",
      "photoUrl": "//lh3.googleusercontent.com/-DRSXegrNWU8/AAAAAAAAAAI/AAAAAAAAALw/g2m_NymLhOs/s50-c-k-no/photo.jpg",
      "userId": "118282896907434154887"
     },
     "user_tz": -330
    },
    "id": "9FD7oiElXjPK",
    "outputId": "2268a64f-e7cf-422a-eb74-4b587e26479e"
   },
   "outputs": [
    {
     "data": {
      "text/plain": [
       "array([[ 0.,  0.,  0.,  0.,  0.],\n",
       "       [ 0.,  0.,  0.,  0.,  0.],\n",
       "       [ 0.,  0.,  0.,  0.,  0.]])"
      ]
     },
     "execution_count": 4,
     "metadata": {},
     "output_type": "execute_result"
    }
   ],
   "source": [
    "np.zeros((3,5))"
   ]
  },
  {
   "cell_type": "code",
   "execution_count": 5,
   "metadata": {
    "colab": {
     "autoexec": {
      "startup": false,
      "wait_interval": 0
     },
     "base_uri": "https://localhost:8080/",
     "height": 85,
     "output_extras": [
      {
       "item_id": 1
      }
     ]
    },
    "colab_type": "code",
    "collapsed": false,
    "executionInfo": {
     "elapsed": 1135,
     "status": "ok",
     "timestamp": 1522490155289,
     "user": {
      "displayName": "Rushi Soni",
      "photoUrl": "//lh3.googleusercontent.com/-DRSXegrNWU8/AAAAAAAAAAI/AAAAAAAAALw/g2m_NymLhOs/s50-c-k-no/photo.jpg",
      "userId": "118282896907434154887"
     },
     "user_tz": -330
    },
    "id": "bEOkBNBvXn9-",
    "outputId": "eae160cf-ec75-4b48-ec50-037dd8e201be"
   },
   "outputs": [
    {
     "data": {
      "text/plain": [
       "array([[ 1.,  1.,  1.,  1.,  1.],\n",
       "       [ 1.,  1.,  1.,  1.,  1.],\n",
       "       [ 1.,  1.,  1.,  1.,  1.],\n",
       "       [ 1.,  1.,  1.,  1.,  1.]])"
      ]
     },
     "execution_count": 5,
     "metadata": {},
     "output_type": "execute_result"
    }
   ],
   "source": [
    "np.ones((4,5))"
   ]
  },
  {
   "cell_type": "code",
   "execution_count": 6,
   "metadata": {
    "colab": {
     "autoexec": {
      "startup": false,
      "wait_interval": 0
     },
     "base_uri": "https://localhost:8080/",
     "height": 68,
     "output_extras": [
      {
       "item_id": 1
      }
     ]
    },
    "colab_type": "code",
    "collapsed": false,
    "executionInfo": {
     "elapsed": 1740,
     "status": "ok",
     "timestamp": 1522490157145,
     "user": {
      "displayName": "Rushi Soni",
      "photoUrl": "//lh3.googleusercontent.com/-DRSXegrNWU8/AAAAAAAAAAI/AAAAAAAAALw/g2m_NymLhOs/s50-c-k-no/photo.jpg",
      "userId": "118282896907434154887"
     },
     "user_tz": -330
    },
    "id": "PvGjf4luXx_y",
    "outputId": "d5517928-0725-48e6-ef2f-2f241c7066ad"
   },
   "outputs": [
    {
     "data": {
      "text/plain": [
       "array([   0.        ,   11.11111111,   22.22222222,   33.33333333,\n",
       "         44.44444444,   55.55555556,   66.66666667,   77.77777778,\n",
       "         88.88888889,  100.        ])"
      ]
     },
     "execution_count": 6,
     "metadata": {},
     "output_type": "execute_result"
    }
   ],
   "source": [
    "np.linspace(0,100,10)"
   ]
  },
  {
   "cell_type": "code",
   "execution_count": 7,
   "metadata": {
    "colab": {
     "autoexec": {
      "startup": false,
      "wait_interval": 0
     },
     "base_uri": "https://localhost:8080/",
     "height": 85,
     "output_extras": [
      {
       "item_id": 1
      }
     ]
    },
    "colab_type": "code",
    "collapsed": false,
    "executionInfo": {
     "elapsed": 1135,
     "status": "ok",
     "timestamp": 1522490158457,
     "user": {
      "displayName": "Rushi Soni",
      "photoUrl": "//lh3.googleusercontent.com/-DRSXegrNWU8/AAAAAAAAAAI/AAAAAAAAALw/g2m_NymLhOs/s50-c-k-no/photo.jpg",
      "userId": "118282896907434154887"
     },
     "user_tz": -330
    },
    "id": "SNZH5NFwYqCs",
    "outputId": "c0310735-fd69-4d6a-ce9d-4fbfef8d52f6"
   },
   "outputs": [
    {
     "data": {
      "text/plain": [
       "array([   0.        ,    7.14285714,   14.28571429,   21.42857143,\n",
       "         28.57142857,   35.71428571,   42.85714286,   50.        ,\n",
       "         57.14285714,   64.28571429,   71.42857143,   78.57142857,\n",
       "         85.71428571,   92.85714286,  100.        ])"
      ]
     },
     "execution_count": 7,
     "metadata": {},
     "output_type": "execute_result"
    }
   ],
   "source": [
    "np.linspace(0,100,15)"
   ]
  },
  {
   "cell_type": "code",
   "execution_count": 8,
   "metadata": {
    "colab": {
     "autoexec": {
      "startup": false,
      "wait_interval": 0
     },
     "base_uri": "https://localhost:8080/",
     "height": 34,
     "output_extras": [
      {
       "item_id": 1
      }
     ]
    },
    "colab_type": "code",
    "collapsed": false,
    "executionInfo": {
     "elapsed": 1322,
     "status": "ok",
     "timestamp": 1522490159892,
     "user": {
      "displayName": "Rushi Soni",
      "photoUrl": "//lh3.googleusercontent.com/-DRSXegrNWU8/AAAAAAAAAAI/AAAAAAAAALw/g2m_NymLhOs/s50-c-k-no/photo.jpg",
      "userId": "118282896907434154887"
     },
     "user_tz": -330
    },
    "id": "zM3mCR6BYzc2",
    "outputId": "45bb0945-e93a-45bd-b8b3-67dab5425cc3"
   },
   "outputs": [
    {
     "data": {
      "text/plain": [
       "array([   0.,   25.,   50.,   75.,  100.])"
      ]
     },
     "execution_count": 8,
     "metadata": {},
     "output_type": "execute_result"
    }
   ],
   "source": [
    "np.linspace(0,100,5)"
   ]
  },
  {
   "cell_type": "code",
   "execution_count": 9,
   "metadata": {
    "colab": {
     "autoexec": {
      "startup": false,
      "wait_interval": 0
     },
     "base_uri": "https://localhost:8080/",
     "height": 68,
     "output_extras": [
      {
       "item_id": 1
      }
     ]
    },
    "colab_type": "code",
    "collapsed": false,
    "executionInfo": {
     "elapsed": 1534,
     "status": "ok",
     "timestamp": 1522490161546,
     "user": {
      "displayName": "Rushi Soni",
      "photoUrl": "//lh3.googleusercontent.com/-DRSXegrNWU8/AAAAAAAAAAI/AAAAAAAAALw/g2m_NymLhOs/s50-c-k-no/photo.jpg",
      "userId": "118282896907434154887"
     },
     "user_tz": -330
    },
    "id": "nu5ay8R7Y3fA",
    "outputId": "2e38aa1a-c62e-4649-b07d-e5bcceb80834"
   },
   "outputs": [
    {
     "data": {
      "text/plain": [
       "array([[25, 96, 49],\n",
       "       [95, 15, 60],\n",
       "       [44, 90, 94]])"
      ]
     },
     "execution_count": 9,
     "metadata": {},
     "output_type": "execute_result"
    }
   ],
   "source": [
    "np.random.randint(0,100,(3,3))"
   ]
  },
  {
   "cell_type": "code",
   "execution_count": 10,
   "metadata": {
    "colab": {
     "autoexec": {
      "startup": false,
      "wait_interval": 0
     },
     "base_uri": "https://localhost:8080/",
     "height": 85,
     "output_extras": [
      {
       "item_id": 1
      }
     ]
    },
    "colab_type": "code",
    "collapsed": false,
    "executionInfo": {
     "elapsed": 1157,
     "status": "ok",
     "timestamp": 1522490162851,
     "user": {
      "displayName": "Rushi Soni",
      "photoUrl": "//lh3.googleusercontent.com/-DRSXegrNWU8/AAAAAAAAAAI/AAAAAAAAALw/g2m_NymLhOs/s50-c-k-no/photo.jpg",
      "userId": "118282896907434154887"
     },
     "user_tz": -330
    },
    "id": "R-AU2gFJZhSt",
    "outputId": "b4fc7010-d3f8-480b-f3cf-1b7c8b73bb4e"
   },
   "outputs": [
    {
     "data": {
      "text/plain": [
       "array([[51, 92, 14],\n",
       "       [71, 60, 20],\n",
       "       [82, 86, 74],\n",
       "       [74, 87, 99]])"
      ]
     },
     "execution_count": 10,
     "metadata": {},
     "output_type": "execute_result"
    }
   ],
   "source": [
    "np.random.seed(42)\n",
    "np.random.randint(0,100,(4,3))"
   ]
  },
  {
   "cell_type": "code",
   "execution_count": 11,
   "metadata": {
    "colab": {
     "autoexec": {
      "startup": false,
      "wait_interval": 0
     },
     "base_uri": "https://localhost:8080/",
     "height": 85,
     "output_extras": [
      {
       "item_id": 1
      }
     ]
    },
    "colab_type": "code",
    "collapsed": false,
    "executionInfo": {
     "elapsed": 1267,
     "status": "ok",
     "timestamp": 1522490164261,
     "user": {
      "displayName": "Rushi Soni",
      "photoUrl": "//lh3.googleusercontent.com/-DRSXegrNWU8/AAAAAAAAAAI/AAAAAAAAALw/g2m_NymLhOs/s50-c-k-no/photo.jpg",
      "userId": "118282896907434154887"
     },
     "user_tz": -330
    },
    "id": "gSpPuJAQZojr",
    "outputId": "07960a9c-77dd-4dee-fcec-f8acbf07e6c2"
   },
   "outputs": [
    {
     "data": {
      "text/plain": [
       "array([[51, 92, 14],\n",
       "       [71, 60, 20],\n",
       "       [82, 86, 74],\n",
       "       [74, 87, 99]])"
      ]
     },
     "execution_count": 11,
     "metadata": {},
     "output_type": "execute_result"
    }
   ],
   "source": [
    "np.random.seed(42)\n",
    "np.random.randint(0,100,(4,3))"
   ]
  },
  {
   "cell_type": "markdown",
   "metadata": {
    "colab_type": "text",
    "id": "aRG0P0n2blpv"
   },
   "source": [
    "- In jupyter notebook to get same random number as result, seed setting in numpy required to be in same cell\n",
    "- Outside cell it will not hold seed impact and we will get different result from numpy random function"
   ]
  },
  {
   "cell_type": "code",
   "execution_count": 12,
   "metadata": {
    "colab": {
     "autoexec": {
      "startup": false,
      "wait_interval": 0
     },
     "base_uri": "https://localhost:8080/",
     "height": 85,
     "output_extras": [
      {
       "item_id": 1
      }
     ]
    },
    "colab_type": "code",
    "collapsed": false,
    "executionInfo": {
     "elapsed": 1268,
     "status": "ok",
     "timestamp": 1522490165628,
     "user": {
      "displayName": "Rushi Soni",
      "photoUrl": "//lh3.googleusercontent.com/-DRSXegrNWU8/AAAAAAAAAAI/AAAAAAAAALw/g2m_NymLhOs/s50-c-k-no/photo.jpg",
      "userId": "118282896907434154887"
     },
     "user_tz": -330
    },
    "id": "QA2zTUx4ZzNk",
    "outputId": "46af9b2c-ef29-473b-aef9-fb37fd81702e"
   },
   "outputs": [
    {
     "data": {
      "text/plain": [
       "array([[23,  2, 21],\n",
       "       [52,  1, 87],\n",
       "       [29, 37,  1],\n",
       "       [63, 59, 20]])"
      ]
     },
     "execution_count": 12,
     "metadata": {},
     "output_type": "execute_result"
    }
   ],
   "source": [
    "np.random.randint(0,100,(4,3))"
   ]
  },
  {
   "cell_type": "code",
   "execution_count": 13,
   "metadata": {
    "colab": {
     "autoexec": {
      "startup": false,
      "wait_interval": 0
     },
     "base_uri": "https://localhost:8080/",
     "height": 34,
     "output_extras": [
      {
       "item_id": 1
      }
     ]
    },
    "colab_type": "code",
    "collapsed": false,
    "executionInfo": {
     "elapsed": 957,
     "status": "ok",
     "timestamp": 1522490166764,
     "user": {
      "displayName": "Rushi Soni",
      "photoUrl": "//lh3.googleusercontent.com/-DRSXegrNWU8/AAAAAAAAAAI/AAAAAAAAALw/g2m_NymLhOs/s50-c-k-no/photo.jpg",
      "userId": "118282896907434154887"
     },
     "user_tz": -330
    },
    "id": "dv6I1L_xbDg_",
    "outputId": "65a80f08-cbd9-4a54-f4bc-c900625cb57a"
   },
   "outputs": [
    {
     "data": {
      "text/plain": [
       "array([51, 92, 14, 71, 60, 20, 82, 86, 74, 74])"
      ]
     },
     "execution_count": 13,
     "metadata": {},
     "output_type": "execute_result"
    }
   ],
   "source": [
    "np.random.seed(42)\n",
    "arr=np.random.randint(0,100,10)\n",
    "arr"
   ]
  },
  {
   "cell_type": "code",
   "execution_count": 14,
   "metadata": {
    "colab": {
     "autoexec": {
      "startup": false,
      "wait_interval": 0
     },
     "base_uri": "https://localhost:8080/",
     "height": 102,
     "output_extras": [
      {
       "item_id": 1
      }
     ]
    },
    "colab_type": "code",
    "collapsed": false,
    "executionInfo": {
     "elapsed": 1148,
     "status": "ok",
     "timestamp": 1522490168047,
     "user": {
      "displayName": "Rushi Soni",
      "photoUrl": "//lh3.googleusercontent.com/-DRSXegrNWU8/AAAAAAAAAAI/AAAAAAAAALw/g2m_NymLhOs/s50-c-k-no/photo.jpg",
      "userId": "118282896907434154887"
     },
     "user_tz": -330
    },
    "id": "8ubb3INhcZGD",
    "outputId": "a528b359-5671-4d6f-d9f7-b08e27b46ef4"
   },
   "outputs": [
    {
     "name": "stdout",
     "output_type": "stream",
     "text": [
      "Maximum value from Array : 92 & its location : 1\n",
      "Minimum value from Array : 92 & its location : 2\n",
      "Average value from Array : 62.4\n",
      "Index of Sort order of array : [2 5 0 4 3 8 9 6 7 1]\n",
      "Sort order of array : [14 20 51 60 71 74 74 82 86 92]\n"
     ]
    }
   ],
   "source": [
    "print('Maximum value from Array : {} & its location : {}').format(arr.max(),arr.argmax())\n",
    "print('Minimum value from Array : {} & its location : {}').format(arr.max(),arr.argmin())\n",
    "print('Average value from Array : {}').format(arr.mean())\n",
    "print('Index of Sort order of array : {}').format(arr.argsort())\n",
    "print('Sort order of array : {}').format(np.sort(arr))"
   ]
  },
  {
   "cell_type": "code",
   "execution_count": 15,
   "metadata": {
    "colab": {
     "autoexec": {
      "startup": false,
      "wait_interval": 0
     },
     "base_uri": "https://localhost:8080/",
     "height": 187,
     "output_extras": [
      {
       "item_id": 1
      }
     ]
    },
    "colab_type": "code",
    "collapsed": false,
    "executionInfo": {
     "elapsed": 1295,
     "status": "ok",
     "timestamp": 1522490255845,
     "user": {
      "displayName": "Rushi Soni",
      "photoUrl": "//lh3.googleusercontent.com/-DRSXegrNWU8/AAAAAAAAAAI/AAAAAAAAALw/g2m_NymLhOs/s50-c-k-no/photo.jpg",
      "userId": "118282896907434154887"
     },
     "user_tz": -330
    },
    "id": "vHPRuQgHchM7",
    "outputId": "d3d75770-08be-4cdf-8e71-e58398be46f2"
   },
   "outputs": [
    {
     "data": {
      "text/plain": [
       "array([[ 0,  1,  2,  3,  4,  5,  6,  7,  8,  9],\n",
       "       [10, 11, 12, 13, 14, 15, 16, 17, 18, 19],\n",
       "       [20, 21, 22, 23, 24, 25, 26, 27, 28, 29],\n",
       "       [30, 31, 32, 33, 34, 35, 36, 37, 38, 39],\n",
       "       [40, 41, 42, 43, 44, 45, 46, 47, 48, 49],\n",
       "       [50, 51, 52, 53, 54, 55, 56, 57, 58, 59],\n",
       "       [60, 61, 62, 63, 64, 65, 66, 67, 68, 69],\n",
       "       [70, 71, 72, 73, 74, 75, 76, 77, 78, 79],\n",
       "       [80, 81, 82, 83, 84, 85, 86, 87, 88, 89],\n",
       "       [90, 91, 92, 93, 94, 95, 96, 97, 98, 99]])"
      ]
     },
     "execution_count": 15,
     "metadata": {},
     "output_type": "execute_result"
    }
   ],
   "source": [
    "mat=np.arange(0,100).reshape(10,10)\n",
    "mat"
   ]
  },
  {
   "cell_type": "code",
   "execution_count": 16,
   "metadata": {
    "colab": {
     "autoexec": {
      "startup": false,
      "wait_interval": 0
     },
     "base_uri": "https://localhost:8080/",
     "height": 34,
     "output_extras": [
      {
       "item_id": 1
      }
     ]
    },
    "colab_type": "code",
    "collapsed": false,
    "executionInfo": {
     "elapsed": 992,
     "status": "ok",
     "timestamp": 1522490343531,
     "user": {
      "displayName": "Rushi Soni",
      "photoUrl": "//lh3.googleusercontent.com/-DRSXegrNWU8/AAAAAAAAAAI/AAAAAAAAALw/g2m_NymLhOs/s50-c-k-no/photo.jpg",
      "userId": "118282896907434154887"
     },
     "user_tz": -330
    },
    "id": "nMfTQYIzfaRD",
    "outputId": "13866b3e-f583-41d5-cca4-566f497cc7b4"
   },
   "outputs": [
    {
     "data": {
      "text/plain": [
       "37"
      ]
     },
     "execution_count": 16,
     "metadata": {},
     "output_type": "execute_result"
    }
   ],
   "source": [
    "mat[3,7]"
   ]
  },
  {
   "cell_type": "code",
   "execution_count": 17,
   "metadata": {
    "colab": {
     "autoexec": {
      "startup": false,
      "wait_interval": 0
     },
     "base_uri": "https://localhost:8080/",
     "height": 34,
     "output_extras": [
      {
       "item_id": 1
      }
     ]
    },
    "colab_type": "code",
    "collapsed": false,
    "executionInfo": {
     "elapsed": 1907,
     "status": "ok",
     "timestamp": 1522490554715,
     "user": {
      "displayName": "Rushi Soni",
      "photoUrl": "//lh3.googleusercontent.com/-DRSXegrNWU8/AAAAAAAAAAI/AAAAAAAAALw/g2m_NymLhOs/s50-c-k-no/photo.jpg",
      "userId": "118282896907434154887"
     },
     "user_tz": -330
    },
    "id": "1HWyaDFgggkn",
    "outputId": "dc4a357e-e284-48cc-985b-a223d2bc7555"
   },
   "outputs": [
    {
     "data": {
      "text/plain": [
       "array([30, 31, 32, 33, 34, 35, 36, 37, 38, 39])"
      ]
     },
     "execution_count": 17,
     "metadata": {},
     "output_type": "execute_result"
    }
   ],
   "source": [
    "mat[3,:]"
   ]
  },
  {
   "cell_type": "code",
   "execution_count": 18,
   "metadata": {
    "colab": {
     "autoexec": {
      "startup": false,
      "wait_interval": 0
     },
     "base_uri": "https://localhost:8080/",
     "height": 34,
     "output_extras": [
      {
       "item_id": 1
      }
     ]
    },
    "colab_type": "code",
    "collapsed": false,
    "executionInfo": {
     "elapsed": 1901,
     "status": "ok",
     "timestamp": 1522490568211,
     "user": {
      "displayName": "Rushi Soni",
      "photoUrl": "//lh3.googleusercontent.com/-DRSXegrNWU8/AAAAAAAAAAI/AAAAAAAAALw/g2m_NymLhOs/s50-c-k-no/photo.jpg",
      "userId": "118282896907434154887"
     },
     "user_tz": -330
    },
    "id": "Pqmi1mj1gj-F",
    "outputId": "45b5e84b-054a-4ec8-ed29-a8bdb3825e99"
   },
   "outputs": [
    {
     "data": {
      "text/plain": [
       "array([ 7, 17, 27, 37, 47, 57, 67, 77, 87, 97])"
      ]
     },
     "execution_count": 18,
     "metadata": {},
     "output_type": "execute_result"
    }
   ],
   "source": [
    "mat[:,7]"
   ]
  },
  {
   "cell_type": "code",
   "execution_count": 19,
   "metadata": {
    "colab": {
     "autoexec": {
      "startup": false,
      "wait_interval": 0
     },
     "base_uri": "https://localhost:8080/",
     "height": 85,
     "output_extras": [
      {
       "item_id": 1
      }
     ]
    },
    "colab_type": "code",
    "collapsed": false,
    "executionInfo": {
     "elapsed": 1209,
     "status": "ok",
     "timestamp": 1522490387534,
     "user": {
      "displayName": "Rushi Soni",
      "photoUrl": "//lh3.googleusercontent.com/-DRSXegrNWU8/AAAAAAAAAAI/AAAAAAAAALw/g2m_NymLhOs/s50-c-k-no/photo.jpg",
      "userId": "118282896907434154887"
     },
     "user_tz": -330
    },
    "id": "LC-DvVm_fvwZ",
    "outputId": "6f95e8fe-1d21-4dbb-91ae-fc8aa6e30839"
   },
   "outputs": [
    {
     "data": {
      "text/plain": [
       "array([[ 3,  4,  5],\n",
       "       [13, 14, 15],\n",
       "       [23, 24, 25],\n",
       "       [33, 34, 35]])"
      ]
     },
     "execution_count": 19,
     "metadata": {},
     "output_type": "execute_result"
    }
   ],
   "source": [
    "mat[0:4,3:6]"
   ]
  },
  {
   "cell_type": "code",
   "execution_count": 20,
   "metadata": {
    "colab": {
     "autoexec": {
      "startup": false,
      "wait_interval": 0
     },
     "base_uri": "https://localhost:8080/",
     "height": 68,
     "output_extras": [
      {
       "item_id": 1
      }
     ]
    },
    "colab_type": "code",
    "collapsed": false,
    "executionInfo": {
     "elapsed": 887,
     "status": "ok",
     "timestamp": 1522490514034,
     "user": {
      "displayName": "Rushi Soni",
      "photoUrl": "//lh3.googleusercontent.com/-DRSXegrNWU8/AAAAAAAAAAI/AAAAAAAAALw/g2m_NymLhOs/s50-c-k-no/photo.jpg",
      "userId": "118282896907434154887"
     },
     "user_tz": -330
    },
    "id": "sQ9EQeATfz9O",
    "outputId": "ab3fac24-d8e1-4f7f-b33f-95c786095ff9"
   },
   "outputs": [
    {
     "data": {
      "text/plain": [
       "array([50, 51, 52, 53, 54, 55, 56, 57, 58, 59, 60, 61, 62, 63, 64, 65, 66,\n",
       "       67, 68, 69, 70, 71, 72, 73, 74, 75, 76, 77, 78, 79, 80, 81, 82, 83,\n",
       "       84, 85, 86, 87, 88, 89, 90, 91, 92, 93, 94, 95, 96, 97, 98, 99])"
      ]
     },
     "execution_count": 20,
     "metadata": {},
     "output_type": "execute_result"
    }
   ],
   "source": [
    "mat[mat>49]"
   ]
  }
 ],
 "metadata": {
  "colab": {
   "collapsed_sections": [],
   "default_view": {},
   "name": "Numpy_understanding.ipynb",
   "provenance": [],
   "version": "0.3.2",
   "views": {}
  },
  "kernelspec": {
   "display_name": "Python 2",
   "language": "python",
   "name": "python2"
  },
  "language_info": {
   "codemirror_mode": {
    "name": "ipython",
    "version": 2
   },
   "file_extension": ".py",
   "mimetype": "text/x-python",
   "name": "python",
   "nbconvert_exporter": "python",
   "pygments_lexer": "ipython2",
   "version": "2.7.6"
  }
 },
 "nbformat": 4,
 "nbformat_minor": 0
}
