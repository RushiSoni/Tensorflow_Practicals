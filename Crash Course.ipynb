{
 "cells": [
  {
   "cell_type": "markdown",
   "metadata": {
    "colab_type": "text",
    "id": "cMlC36q6mgVn"
   },
   "source": [
    "### Crash Course Review Excersies"
   ]
  },
  {
   "cell_type": "code",
   "execution_count": 1,
   "metadata": {
    "colab": {
     "autoexec": {
      "startup": false,
      "wait_interval": 0
     }
    },
    "colab_type": "code",
    "collapsed": true,
    "id": "NiwmOlmJmkUs"
   },
   "outputs": [],
   "source": [
    "import numpy as np\n",
    "import pandas as pd\n",
    "%matplotlib inline\n",
    "import matplotlib.pyplot as plt\n",
    "from sklearn.preprocessing import MinMaxScaler\n",
    "from sklearn.model_selection import train_test_split"
   ]
  },
  {
   "cell_type": "code",
   "execution_count": 2,
   "metadata": {
    "colab": {
     "autoexec": {
      "startup": false,
      "wait_interval": 0
     },
     "base_uri": "https://localhost:8080/",
     "height": 34,
     "output_extras": [
      {
       "item_id": 1
      }
     ]
    },
    "colab_type": "code",
    "collapsed": false,
    "executionInfo": {
     "elapsed": 1847,
     "status": "ok",
     "timestamp": 1522493522933,
     "user": {
      "displayName": "Rushi Soni",
      "photoUrl": "//lh3.googleusercontent.com/-DRSXegrNWU8/AAAAAAAAAAI/AAAAAAAAALw/g2m_NymLhOs/s50-c-k-no/photo.jpg",
      "userId": "118282896907434154887"
     },
     "user_tz": -330
    },
    "id": "MBvD6g8Gm2Ng",
    "outputId": "163aa1a3-8fe9-46e3-f165-9df95bdcef1e"
   },
   "outputs": [
    {
     "data": {
      "text/plain": [
       "(100, 5)"
      ]
     },
     "execution_count": 2,
     "metadata": {},
     "output_type": "execute_result"
    }
   ],
   "source": [
    "np.random.seed(42)\n",
    "mat=np.random.randint(1,101,(100,5))\n",
    "mat.shape"
   ]
  },
  {
   "cell_type": "code",
   "execution_count": 3,
   "metadata": {
    "colab": {
     "autoexec": {
      "startup": false,
      "wait_interval": 0
     },
     "base_uri": "https://localhost:8080/",
     "height": 238,
     "output_extras": [
      {
       "item_id": 1
      },
      {
       "item_id": 2
      }
     ]
    },
    "colab_type": "code",
    "collapsed": false,
    "executionInfo": {
     "elapsed": 2271,
     "status": "ok",
     "timestamp": 1522493525303,
     "user": {
      "displayName": "Rushi Soni",
      "photoUrl": "//lh3.googleusercontent.com/-DRSXegrNWU8/AAAAAAAAAAI/AAAAAAAAALw/g2m_NymLhOs/s50-c-k-no/photo.jpg",
      "userId": "118282896907434154887"
     },
     "user_tz": -330
    },
    "id": "PZ3dnYJinRbr",
    "outputId": "5e5389a3-64f8-4a74-a740-a5ba2ab47e33"
   },
   "outputs": [
    {
     "name": "stdout",
     "output_type": "stream",
     "text": [
      "(100, 5)\n",
      "RangeIndex(start=0, stop=5, step=1)\n"
     ]
    },
    {
     "data": {
      "text/html": [
       "<div>\n",
       "<style scoped>\n",
       "    .dataframe tbody tr th:only-of-type {\n",
       "        vertical-align: middle;\n",
       "    }\n",
       "\n",
       "    .dataframe tbody tr th {\n",
       "        vertical-align: top;\n",
       "    }\n",
       "\n",
       "    .dataframe thead th {\n",
       "        text-align: right;\n",
       "    }\n",
       "</style>\n",
       "<table border=\"1\" class=\"dataframe\">\n",
       "  <thead>\n",
       "    <tr style=\"text-align: right;\">\n",
       "      <th></th>\n",
       "      <th>0</th>\n",
       "      <th>1</th>\n",
       "      <th>2</th>\n",
       "      <th>3</th>\n",
       "      <th>4</th>\n",
       "    </tr>\n",
       "  </thead>\n",
       "  <tbody>\n",
       "    <tr>\n",
       "      <th>0</th>\n",
       "      <td>52</td>\n",
       "      <td>93</td>\n",
       "      <td>15</td>\n",
       "      <td>72</td>\n",
       "      <td>61</td>\n",
       "    </tr>\n",
       "    <tr>\n",
       "      <th>1</th>\n",
       "      <td>21</td>\n",
       "      <td>83</td>\n",
       "      <td>87</td>\n",
       "      <td>75</td>\n",
       "      <td>75</td>\n",
       "    </tr>\n",
       "    <tr>\n",
       "      <th>2</th>\n",
       "      <td>88</td>\n",
       "      <td>100</td>\n",
       "      <td>24</td>\n",
       "      <td>3</td>\n",
       "      <td>22</td>\n",
       "    </tr>\n",
       "    <tr>\n",
       "      <th>3</th>\n",
       "      <td>53</td>\n",
       "      <td>2</td>\n",
       "      <td>88</td>\n",
       "      <td>30</td>\n",
       "      <td>38</td>\n",
       "    </tr>\n",
       "    <tr>\n",
       "      <th>4</th>\n",
       "      <td>2</td>\n",
       "      <td>64</td>\n",
       "      <td>60</td>\n",
       "      <td>21</td>\n",
       "      <td>33</td>\n",
       "    </tr>\n",
       "  </tbody>\n",
       "</table>\n",
       "</div>"
      ],
      "text/plain": [
       "    0    1   2   3   4\n",
       "0  52   93  15  72  61\n",
       "1  21   83  87  75  75\n",
       "2  88  100  24   3  22\n",
       "3  53    2  88  30  38\n",
       "4   2   64  60  21  33"
      ]
     },
     "execution_count": 3,
     "metadata": {},
     "output_type": "execute_result"
    }
   ],
   "source": [
    "mat_df=pd.DataFrame(mat)\n",
    "print(mat_df.shape)\n",
    "print(mat_df.columns)\n",
    "mat_df.head()"
   ]
  },
  {
   "cell_type": "code",
   "execution_count": 4,
   "metadata": {
    "colab": {
     "autoexec": {
      "startup": false,
      "wait_interval": 0
     },
     "base_uri": "https://localhost:8080/",
     "height": 297,
     "output_extras": [
      {
       "item_id": 1
      },
      {
       "item_id": 2
      }
     ]
    },
    "colab_type": "code",
    "collapsed": false,
    "executionInfo": {
     "elapsed": 5039,
     "status": "ok",
     "timestamp": 1522493530476,
     "user": {
      "displayName": "Rushi Soni",
      "photoUrl": "//lh3.googleusercontent.com/-DRSXegrNWU8/AAAAAAAAAAI/AAAAAAAAALw/g2m_NymLhOs/s50-c-k-no/photo.jpg",
      "userId": "118282896907434154887"
     },
     "user_tz": -330
    },
    "id": "6nPQ7hg5phHb",
    "outputId": "92885bae-6471-421e-946e-394d78274672"
   },
   "outputs": [
    {
     "data": {
      "text/plain": [
       "Text(0.5,1,u'My Plot')"
      ]
     },
     "execution_count": 4,
     "metadata": {},
     "output_type": "execute_result"
    },
    {
     "data": {
      "image/png": "[encoded data removed]",
      "text/plain": [
       "<matplotlib.figure.Figure at 0x7f6d182db250>"
      ]
     },
     "metadata": {},
     "output_type": "display_data"
    }
   ],
   "source": [
    "plt.imshow(mat,aspect=0.05)\n",
    "plt.colorbar()\n",
    "plt.title('My Plot')"
   ]
  },
  {
   "cell_type": "code",
   "execution_count": 5,
   "metadata": {
    "colab": {
     "autoexec": {
      "startup": false,
      "wait_interval": 0
     },
     "base_uri": "https://localhost:8080/",
     "height": 296,
     "output_extras": [
      {
       "item_id": 1
      },
      {
       "item_id": 2
      }
     ]
    },
    "colab_type": "code",
    "collapsed": false,
    "executionInfo": {
     "elapsed": 2955,
     "status": "ok",
     "timestamp": 1522493533709,
     "user": {
      "displayName": "Rushi Soni",
      "photoUrl": "//lh3.googleusercontent.com/-DRSXegrNWU8/AAAAAAAAAAI/AAAAAAAAALw/g2m_NymLhOs/s50-c-k-no/photo.jpg",
      "userId": "118282896907434154887"
     },
     "user_tz": -330
    },
    "id": "V85JZ76Roycu",
    "outputId": "2a198962-3703-4b24-f7c5-5322caec6010"
   },
   "outputs": [
    {
     "data": {
      "text/plain": [
       "<matplotlib.axes._subplots.AxesSubplot at 0x7f6cd57ea290>"
      ]
     },
     "execution_count": 5,
     "metadata": {},
     "output_type": "execute_result"
    },
    {
     "data": {
      "image/png": "[encoded data removed]",
      "text/plain": [
       "<matplotlib.figure.Figure at 0x7f6cd5751bd0>"
      ]
     },
     "metadata": {},
     "output_type": "display_data"
    }
   ],
   "source": [
    "mat_df.plot(x=0,y=1,kind='scatter',c='red')"
   ]
  },
  {
   "cell_type": "code",
   "execution_count": null,
   "metadata": {
    "colab": {
     "autoexec": {
      "startup": false,
      "wait_interval": 0
     }
    },
    "colab_type": "code",
    "collapsed": true,
    "id": "L9-fXhKMrjXV"
   },
   "outputs": [],
   "source": []
  }
 ],
 "metadata": {
  "colab": {
   "collapsed_sections": [],
   "default_view": {},
   "name": "Copy of Crash Course.ipynb",
   "provenance": [
    {
     "file_id": "1i-_-bhpOLoDG6qFYKVXt-FdWohA4ouQy",
     "timestamp": 1522493876289
    }
   ],
   "version": "0.3.2",
   "views": {}
  },
  "kernelspec": {
   "display_name": "Spell_Corrections",
   "language": "python",
   "name": "spell_corrections"
  },
  "language_info": {
   "codemirror_mode": {
    "name": "ipython",
    "version": 2
   },
   "file_extension": ".py",
   "mimetype": "text/x-python",
   "name": "python",
   "nbconvert_exporter": "python",
   "pygments_lexer": "ipython2",
   "version": "2.7.6"
  }
 },
 "nbformat": 4,
 "nbformat_minor": 0
}
