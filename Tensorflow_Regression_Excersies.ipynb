{
 "cells": [
  {
   "cell_type": "code",
   "execution_count": 1,
   "metadata": {
    "collapsed": false
   },
   "outputs": [
    {
     "name": "stderr",
     "output_type": "stream",
     "text": [
      "/home/ubuntu/Spell_Correction/Spell_Corrections/local/lib/python2.7/site-packages/h5py/__init__.py:36: FutureWarning: Conversion of the second argument of issubdtype from `float` to `np.floating` is deprecated. In future, it will be treated as `np.float64 == np.dtype(float).type`.\n",
      "  from ._conv import register_converters as _register_converters\n"
     ]
    }
   ],
   "source": [
    "import tensorflow as tf\n",
    "import pandas as pd\n",
    "from sklearn.model_selection import train_test_split\n",
    "from sklearn.preprocessing import MinMaxScaler\n",
    "from sklearn.metrics import mean_squared_error\n",
    "from sklearn.metrics import r2_score"
   ]
  },
  {
   "cell_type": "code",
   "execution_count": 2,
   "metadata": {
    "collapsed": false
   },
   "outputs": [
    {
     "name": "stdout",
     "output_type": "stream",
     "text": [
      "(20640, 7)\n",
      "Index([u'housingMedianAge', u'totalRooms', u'totalBedrooms', u'population',\n",
      "       u'households', u'medianIncome', u'medianHouseValue'],\n",
      "      dtype='object')\n"
     ]
    },
    {
     "data": {
      "text/html": [
       "<div>\n",
       "<style scoped>\n",
       "    .dataframe tbody tr th:only-of-type {\n",
       "        vertical-align: middle;\n",
       "    }\n",
       "\n",
       "    .dataframe tbody tr th {\n",
       "        vertical-align: top;\n",
       "    }\n",
       "\n",
       "    .dataframe thead th {\n",
       "        text-align: right;\n",
       "    }\n",
       "</style>\n",
       "<table border=\"1\" class=\"dataframe\">\n",
       "  <thead>\n",
       "    <tr style=\"text-align: right;\">\n",
       "      <th></th>\n",
       "      <th>housingMedianAge</th>\n",
       "      <th>totalRooms</th>\n",
       "      <th>totalBedrooms</th>\n",
       "      <th>population</th>\n",
       "      <th>households</th>\n",
       "      <th>medianIncome</th>\n",
       "      <th>medianHouseValue</th>\n",
       "    </tr>\n",
       "  </thead>\n",
       "  <tbody>\n",
       "    <tr>\n",
       "      <th>0</th>\n",
       "      <td>41.0</td>\n",
       "      <td>880.0</td>\n",
       "      <td>129.0</td>\n",
       "      <td>322.0</td>\n",
       "      <td>126.0</td>\n",
       "      <td>8.3252</td>\n",
       "      <td>452600.0</td>\n",
       "    </tr>\n",
       "    <tr>\n",
       "      <th>1</th>\n",
       "      <td>21.0</td>\n",
       "      <td>7099.0</td>\n",
       "      <td>1106.0</td>\n",
       "      <td>2401.0</td>\n",
       "      <td>1138.0</td>\n",
       "      <td>8.3014</td>\n",
       "      <td>358500.0</td>\n",
       "    </tr>\n",
       "    <tr>\n",
       "      <th>2</th>\n",
       "      <td>52.0</td>\n",
       "      <td>1467.0</td>\n",
       "      <td>190.0</td>\n",
       "      <td>496.0</td>\n",
       "      <td>177.0</td>\n",
       "      <td>7.2574</td>\n",
       "      <td>352100.0</td>\n",
       "    </tr>\n",
       "    <tr>\n",
       "      <th>3</th>\n",
       "      <td>52.0</td>\n",
       "      <td>1274.0</td>\n",
       "      <td>235.0</td>\n",
       "      <td>558.0</td>\n",
       "      <td>219.0</td>\n",
       "      <td>5.6431</td>\n",
       "      <td>341300.0</td>\n",
       "    </tr>\n",
       "    <tr>\n",
       "      <th>4</th>\n",
       "      <td>52.0</td>\n",
       "      <td>1627.0</td>\n",
       "      <td>280.0</td>\n",
       "      <td>565.0</td>\n",
       "      <td>259.0</td>\n",
       "      <td>3.8462</td>\n",
       "      <td>342200.0</td>\n",
       "    </tr>\n",
       "  </tbody>\n",
       "</table>\n",
       "</div>"
      ],
      "text/plain": [
       "   housingMedianAge  totalRooms  totalBedrooms  population  households  \\\n",
       "0              41.0       880.0          129.0       322.0       126.0   \n",
       "1              21.0      7099.0         1106.0      2401.0      1138.0   \n",
       "2              52.0      1467.0          190.0       496.0       177.0   \n",
       "3              52.0      1274.0          235.0       558.0       219.0   \n",
       "4              52.0      1627.0          280.0       565.0       259.0   \n",
       "\n",
       "   medianIncome  medianHouseValue  \n",
       "0        8.3252          452600.0  \n",
       "1        8.3014          358500.0  \n",
       "2        7.2574          352100.0  \n",
       "3        5.6431          341300.0  \n",
       "4        3.8462          342200.0  "
      ]
     },
     "execution_count": 2,
     "metadata": {},
     "output_type": "execute_result"
    }
   ],
   "source": [
    "housing=pd.read_csv('/home/ubuntu/DEEP_LEARNING/Tensorflow_Deeplearning_02042018/02-TensorFlow-Basics/cal_housing_clean.csv')\n",
    "print(housing.shape)\n",
    "print(housing.columns)\n",
    "housing.head()"
   ]
  },
  {
   "cell_type": "code",
   "execution_count": 3,
   "metadata": {
    "collapsed": true
   },
   "outputs": [],
   "source": [
    "y=housing['medianHouseValue']\n",
    "X=housing.drop('medianHouseValue',axis=1)\n",
    "X_train, X_test, y_train, y_test = train_test_split(X, y, test_size=0.33, random_state=42)"
   ]
  },
  {
   "cell_type": "code",
   "execution_count": 4,
   "metadata": {
    "collapsed": false
   },
   "outputs": [
    {
     "data": {
      "text/plain": [
       "MinMaxScaler(copy=True, feature_range=(0, 1))"
      ]
     },
     "execution_count": 4,
     "metadata": {},
     "output_type": "execute_result"
    }
   ],
   "source": [
    "scalar=MinMaxScaler()\n",
    "scalar.fit(X_train)"
   ]
  },
  {
   "cell_type": "code",
   "execution_count": 5,
   "metadata": {
    "collapsed": true
   },
   "outputs": [],
   "source": [
    "X_train=pd.DataFrame(data=scalar.transform(X_train),columns=X_train.columns,index=X_train.index)\n",
    "X_test=pd.DataFrame(data=scalar.transform(X_test),columns=X_test.columns,index=X_test.index)"
   ]
  },
  {
   "cell_type": "code",
   "execution_count": 6,
   "metadata": {
    "collapsed": false
   },
   "outputs": [
    {
     "data": {
      "text/plain": [
       "Index([u'housingMedianAge', u'totalRooms', u'totalBedrooms', u'population',\n",
       "       u'households', u'medianIncome'],\n",
       "      dtype='object')"
      ]
     },
     "execution_count": 6,
     "metadata": {},
     "output_type": "execute_result"
    }
   ],
   "source": [
    "X_train.columns"
   ]
  },
  {
   "cell_type": "code",
   "execution_count": 7,
   "metadata": {
    "collapsed": true
   },
   "outputs": [],
   "source": [
    "hma=tf.feature_column.numeric_column('housingMedianAge')\n",
    "tr=tf.feature_column.numeric_column('totalRooms')\n",
    "tb=tf.feature_column.numeric_column('totalBedrooms')\n",
    "population=tf.feature_column.numeric_column('population')\n",
    "hh=tf.feature_column.numeric_column('households')"
   ]
  },
  {
   "cell_type": "code",
   "execution_count": 8,
   "metadata": {
    "collapsed": true
   },
   "outputs": [],
   "source": [
    "feat_cols=[hma,tr,tb,population,hh]"
   ]
  },
  {
   "cell_type": "code",
   "execution_count": 9,
   "metadata": {
    "collapsed": true
   },
   "outputs": [],
   "source": [
    "input_func=tf.estimator.inputs.pandas_input_fn(x=X_train,y=y_train,batch_size=10,num_epochs=1000,shuffle=True)"
   ]
  },
  {
   "cell_type": "code",
   "execution_count": 10,
   "metadata": {
    "collapsed": false
   },
   "outputs": [
    {
     "name": "stdout",
     "output_type": "stream",
     "text": [
      "INFO:tensorflow:Using default config.\n",
      "WARNING:tensorflow:Using temporary folder as model directory: /tmp/tmp95ytC3\n",
      "INFO:tensorflow:Using config: {'_save_checkpoints_secs': 600, '_session_config': None, '_keep_checkpoint_max': 5, '_task_type': 'worker', '_is_chief': True, '_cluster_spec': <tensorflow.python.training.server_lib.ClusterSpec object at 0x7fbb9159ddd0>, '_save_checkpoints_steps': None, '_keep_checkpoint_every_n_hours': 10000, '_service': None, '_num_ps_replicas': 0, '_tf_random_seed': None, '_master': '', '_num_worker_replicas': 1, '_task_id': 0, '_log_step_count_steps': 100, '_model_dir': '/tmp/tmp95ytC3', '_save_summary_steps': 100}\n"
     ]
    }
   ],
   "source": [
    "model=tf.estimator.DNNRegressor(hidden_units=[6,8,8,8,6],feature_columns=feat_cols)"
   ]
  },
  {
   "cell_type": "code",
   "execution_count": 11,
   "metadata": {
    "collapsed": false
   },
   "outputs": [
    {
     "name": "stdout",
     "output_type": "stream",
     "text": [
      "INFO:tensorflow:Create CheckpointSaverHook.\n",
      "INFO:tensorflow:Saving checkpoints for 1 into /tmp/tmp95ytC3/model.ckpt.\n",
      "INFO:tensorflow:loss = 443284950000.0, step = 1\n",
      "INFO:tensorflow:global_step/sec: 253.939\n",
      "INFO:tensorflow:loss = 75507450000.0, step = 101 (0.396 sec)\n",
      "INFO:tensorflow:global_step/sec: 312.929\n",
      "INFO:tensorflow:loss = 208125310000.0, step = 201 (0.319 sec)\n",
      "INFO:tensorflow:global_step/sec: 305.954\n",
      "INFO:tensorflow:loss = 123832844000.0, step = 301 (0.327 sec)\n",
      "INFO:tensorflow:global_step/sec: 281.938\n",
      "INFO:tensorflow:loss = 174908960000.0, step = 401 (0.358 sec)\n",
      "INFO:tensorflow:global_step/sec: 299.834\n",
      "INFO:tensorflow:loss = 63476003000.0, step = 501 (0.330 sec)\n",
      "INFO:tensorflow:global_step/sec: 296.67\n",
      "INFO:tensorflow:loss = 79590200000.0, step = 601 (0.339 sec)\n",
      "INFO:tensorflow:global_step/sec: 298.012\n",
      "INFO:tensorflow:loss = 101779920000.0, step = 701 (0.334 sec)\n",
      "INFO:tensorflow:global_step/sec: 307.249\n",
      "INFO:tensorflow:loss = 49745050000.0, step = 801 (0.327 sec)\n",
      "INFO:tensorflow:global_step/sec: 302.098\n",
      "INFO:tensorflow:loss = 161791570000.0, step = 901 (0.331 sec)\n",
      "INFO:tensorflow:global_step/sec: 310.356\n",
      "INFO:tensorflow:loss = 64537720000.0, step = 1001 (0.325 sec)\n",
      "INFO:tensorflow:global_step/sec: 299.109\n",
      "INFO:tensorflow:loss = 175046200000.0, step = 1101 (0.329 sec)\n",
      "INFO:tensorflow:global_step/sec: 300.171\n",
      "INFO:tensorflow:loss = 114714080000.0, step = 1201 (0.335 sec)\n",
      "INFO:tensorflow:global_step/sec: 301.122\n",
      "INFO:tensorflow:loss = 239333640000.0, step = 1301 (0.334 sec)\n",
      "INFO:tensorflow:global_step/sec: 308.131\n",
      "INFO:tensorflow:loss = 128567230000.0, step = 1401 (0.321 sec)\n",
      "INFO:tensorflow:global_step/sec: 304.89\n",
      "INFO:tensorflow:loss = 56269830000.0, step = 1501 (0.329 sec)\n",
      "INFO:tensorflow:global_step/sec: 326.627\n",
      "INFO:tensorflow:loss = 66503623000.0, step = 1601 (0.313 sec)\n",
      "INFO:tensorflow:global_step/sec: 270.155\n",
      "INFO:tensorflow:loss = 134299080000.0, step = 1701 (0.362 sec)\n",
      "INFO:tensorflow:global_step/sec: 302.399\n",
      "INFO:tensorflow:loss = 113854190000.0, step = 1801 (0.331 sec)\n",
      "INFO:tensorflow:global_step/sec: 295.256\n",
      "INFO:tensorflow:loss = 129761870000.0, step = 1901 (0.341 sec)\n",
      "INFO:tensorflow:Saving checkpoints for 2000 into /tmp/tmp95ytC3/model.ckpt.\n",
      "INFO:tensorflow:Loss for final step: 185541080000.0.\n"
     ]
    },
    {
     "data": {
      "text/plain": [
       "<tensorflow.python.estimator.canned.dnn.DNNRegressor at 0x7fbb91e66b10>"
      ]
     },
     "execution_count": 11,
     "metadata": {},
     "output_type": "execute_result"
    }
   ],
   "source": [
    "model.train(input_fn=input_func,steps=2000)"
   ]
  },
  {
   "cell_type": "code",
   "execution_count": 12,
   "metadata": {
    "collapsed": true
   },
   "outputs": [],
   "source": [
    "pred_inpu_eval=tf.estimator.inputs.pandas_input_fn(x=X_test,batch_size=10,num_epochs=1,shuffle=False)"
   ]
  },
  {
   "cell_type": "code",
   "execution_count": 13,
   "metadata": {
    "collapsed": false
   },
   "outputs": [
    {
     "name": "stdout",
     "output_type": "stream",
     "text": [
      "INFO:tensorflow:Restoring parameters from /tmp/tmp95ytC3/model.ckpt-2000\n"
     ]
    },
    {
     "data": {
      "text/plain": [
       "[array([188320.14], dtype=float32),\n",
       " array([211792.08], dtype=float32),\n",
       " array([271335.1], dtype=float32),\n",
       " array([181705.61], dtype=float32),\n",
       " array([211224.89], dtype=float32)]"
      ]
     },
     "execution_count": 13,
     "metadata": {},
     "output_type": "execute_result"
    }
   ],
   "source": [
    "prediction=model.predict(pred_inpu_eval)\n",
    "prediction=list(prediction)\n",
    "prediction=[pred['predictions'] for pred in prediction]\n",
    "prediction[0:5]"
   ]
  },
  {
   "cell_type": "code",
   "execution_count": 14,
   "metadata": {
    "collapsed": false
   },
   "outputs": [
    {
     "data": {
      "text/plain": [
       "114277.91413553532"
      ]
     },
     "execution_count": 14,
     "metadata": {},
     "output_type": "execute_result"
    }
   ],
   "source": [
    "mean_squared_error(y_test,prediction)**0.5"
   ]
  },
  {
   "cell_type": "code",
   "execution_count": 15,
   "metadata": {
    "collapsed": false
   },
   "outputs": [
    {
     "data": {
      "text/plain": [
       "0.019996858003300977"
      ]
     },
     "execution_count": 15,
     "metadata": {},
     "output_type": "execute_result"
    }
   ],
   "source": [
    "r2_score(y_test,prediction)"
   ]
  }
 ],
 "metadata": {
  "kernelspec": {
   "display_name": "Spell_Corrections",
   "language": "python",
   "name": "spell_corrections"
  },
  "language_info": {
   "codemirror_mode": {
    "name": "ipython",
    "version": 2
   },
   "file_extension": ".py",
   "mimetype": "text/x-python",
   "name": "python",
   "nbconvert_exporter": "python",
   "pygments_lexer": "ipython2",
   "version": "2.7.6"
  }
 },
 "nbformat": 4,
 "nbformat_minor": 2
}
